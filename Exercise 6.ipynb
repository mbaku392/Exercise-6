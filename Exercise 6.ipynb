{
 "cells": [
  {
   "cell_type": "code",
   "execution_count": 6,
   "metadata": {},
   "outputs": [
    {
     "name": "stdout",
     "output_type": "stream",
     "text": [
      "This is an integer!\n"
     ]
    }
   ],
   "source": [
    "x=1\n",
    "if isinstance(x, int):\n",
    "    print(\"This is an integer!\")\n",
    "    \n",
    "elif isinstance(x, str):\n",
    "    print(\"This is a string!\")\n",
    "    \n",
    "elif isinstance(x, float):\n",
    "    print(\"This is a float!\")"
   ]
  },
  {
   "cell_type": "code",
   "execution_count": 7,
   "metadata": {},
   "outputs": [
    {
     "name": "stdout",
     "output_type": "stream",
     "text": [
      "This is a string!\n"
     ]
    }
   ],
   "source": [
    "y= 'Today was a good day'\n",
    "if isinstance(y, int):\n",
    "    print(\"This is an integer!\")\n",
    "    \n",
    "elif isinstance(y, str):\n",
    "    print(\"This is a string!\")\n",
    "    \n",
    "elif isinstance(y, float):\n",
    "    print(\"This is a float!\")"
   ]
  },
  {
   "cell_type": "code",
   "execution_count": 8,
   "metadata": {},
   "outputs": [
    {
     "name": "stdout",
     "output_type": "stream",
     "text": [
      "This is a float!\n"
     ]
    }
   ],
   "source": [
    "z=10.2\n",
    "if isinstance(z, int):\n",
    "    print(\"This is an integer!\")\n",
    "    \n",
    "elif isinstance(z, str):\n",
    "    print(\"This is a string!\")\n",
    "    \n",
    "elif isinstance(z, float):\n",
    "    print(\"This is a float!\")"
   ]
  },
  {
   "cell_type": "code",
   "execution_count": null,
   "metadata": {},
   "outputs": [],
   "source": []
  }
 ],
 "metadata": {
  "kernelspec": {
   "display_name": "ArcGISPro",
   "language": "Python",
   "name": "python3"
  },
  "language_info": {
   "file_extension": ".py",
   "name": "python",
   "version": "3"
  }
 },
 "nbformat": 4,
 "nbformat_minor": 2
}
